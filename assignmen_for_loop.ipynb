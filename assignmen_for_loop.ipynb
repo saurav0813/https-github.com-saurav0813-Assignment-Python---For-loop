{
 "cells": [
  {
   "cell_type": "markdown",
   "metadata": {},
   "source": [
    "Basic Level:\n",
    "1. Write a Python program to print the numbers from 1 to 10 using a `for` loop."
   ]
  },
  {
   "cell_type": "code",
   "execution_count": 4,
   "metadata": {},
   "outputs": [
    {
     "name": "stdout",
     "output_type": "stream",
     "text": [
      "1,2,3,4,5,6,7,8,9,10,"
     ]
    }
   ],
   "source": [
    "for i in range(1,11):\n",
    "    print(i,end=\",\")"
   ]
  },
  {
   "cell_type": "markdown",
   "metadata": {},
   "source": [
    "2. Create a program that calculates the sum of all numbers in a list using a `for` loop."
   ]
  },
  {
   "cell_type": "code",
   "execution_count": 6,
   "metadata": {},
   "outputs": [
    {
     "name": "stdout",
     "output_type": "stream",
     "text": [
      "the sum of all numbers in a list is 28\n"
     ]
    }
   ],
   "source": [
    "l = [1,2,3,4,5,6,7]\n",
    "add_num = 0\n",
    "for num in l:\n",
    "    add_num+=num\n",
    "print('the sum of all numbers in a list is',add_num)"
   ]
  },
  {
   "cell_type": "markdown",
   "metadata": {},
   "source": [
    "3. Write a program to print the characters of a string in reverse order using a `for` loop."
   ]
  },
  {
   "cell_type": "code",
   "execution_count": 7,
   "metadata": {},
   "outputs": [
    {
     "name": "stdout",
     "output_type": "stream",
     "text": [
      "characters of a string in reverse order is varuas\n"
     ]
    }
   ],
   "source": [
    "s = 'saurav'\n",
    "reverse_str = ''\n",
    "for char in s:\n",
    "    reverse_str = char+reverse_str\n",
    "print('characters of a string in reverse order is',reverse_str)"
   ]
  },
  {
   "cell_type": "markdown",
   "metadata": {},
   "source": [
    "4. Develop a program that finds the factorial of a given number using a `for` loop."
   ]
  },
  {
   "cell_type": "code",
   "execution_count": 11,
   "metadata": {},
   "outputs": [
    {
     "name": "stdout",
     "output_type": "stream",
     "text": [
      "factorial of given number is  120\n"
     ]
    }
   ],
   "source": [
    "n = 5\n",
    "factorial = 1\n",
    "for num in range(1,n+1):\n",
    "    factorial*=num\n",
    "print('factorial of given number is ',factorial)"
   ]
  },
  {
   "cell_type": "markdown",
   "metadata": {},
   "source": [
    "5. Create a program to print the multiplication table of a given number using a `for` loop."
   ]
  },
  {
   "cell_type": "code",
   "execution_count": 29,
   "metadata": {},
   "outputs": [
    {
     "name": "stdout",
     "output_type": "stream",
     "text": [
      "17 x 1 = 17,17 x 2 = 34,17 x 3 = 51,17 x 4 = 68,17 x 5 = 85,17 x 6 = 102,17 x 7 = 119,17 x 8 = 136,17 x 9 = 153,17 x 10 = 170,"
     ]
    }
   ],
   "source": [
    "n = 17\n",
    "for i in range(1,11):\n",
    "    j = n*i\n",
    "    print(n,'x',i,'=',j,end=\",\")"
   ]
  },
  {
   "cell_type": "markdown",
   "metadata": {},
   "source": [
    "6. Write a program that counts the number of even and odd numbers in a list using a `for` loop."
   ]
  },
  {
   "cell_type": "code",
   "execution_count": 25,
   "metadata": {},
   "outputs": [
    {
     "name": "stdout",
     "output_type": "stream",
     "text": [
      "total number of even number and odd number in list [1, 2, 4, 3, 5, 6, 9] are 3 and 4\n"
     ]
    }
   ],
   "source": [
    "l = [1,2,4,3,5,6,9]\n",
    "even_count = 0\n",
    "odd_count = 0\n",
    "for num in l:\n",
    "    if num%2 == 0:\n",
    "        even_count+=1\n",
    "    else:\n",
    "        odd_count+=1\n",
    "print(f\"total number of even number and odd number in list {l} are {even_count} and {odd_count}\")"
   ]
  },
  {
   "cell_type": "markdown",
   "metadata": {},
   "source": [
    "7. Develop a program that prints the squares of numbers from 1 to 5 using a `for` loop."
   ]
  },
  {
   "cell_type": "code",
   "execution_count": 28,
   "metadata": {},
   "outputs": [
    {
     "name": "stdout",
     "output_type": "stream",
     "text": [
      "1,4,9,16,25,"
     ]
    }
   ],
   "source": [
    "for num in range(1,6):\n",
    "    print(num**2,end=\",\")"
   ]
  },
  {
   "cell_type": "markdown",
   "metadata": {},
   "source": [
    "8. Create a program to find the length of a string without using the `len()` function."
   ]
  },
  {
   "cell_type": "code",
   "execution_count": 32,
   "metadata": {},
   "outputs": [
    {
     "name": "stdout",
     "output_type": "stream",
     "text": [
      "8\n"
     ]
    }
   ],
   "source": [
    "s = 'pwskills'\n",
    "str_length = 0\n",
    "for char in s:\n",
    "    str_length+=1\n",
    "print(str_length)"
   ]
  },
  {
   "cell_type": "markdown",
   "metadata": {},
   "source": [
    "9. Write a program that calculates the average of a list of numbers using a `for` loop."
   ]
  },
  {
   "cell_type": "code",
   "execution_count": 34,
   "metadata": {},
   "outputs": [
    {
     "name": "stdout",
     "output_type": "stream",
     "text": [
      "average of a list of numbers is  3.5\n"
     ]
    }
   ],
   "source": [
    "lst = [1,2,3,4,5,6]\n",
    "l = len(lst)\n",
    "sum_lst_num = 0\n",
    "for num in lst:\n",
    "    sum_lst_num+=num\n",
    "    avg = sum_lst_num/l\n",
    "print('average of a list of numbers is ',avg)\n"
   ]
  },
  {
   "cell_type": "markdown",
   "metadata": {},
   "source": [
    "10. Develop a program that prints the first `n` Fibonacci numbers using a `for` loop."
   ]
  },
  {
   "cell_type": "code",
   "execution_count": 36,
   "metadata": {},
   "outputs": [
    {
     "name": "stdout",
     "output_type": "stream",
     "text": [
      "[1, 1, 2, 3, 5, 8]\n"
     ]
    }
   ],
   "source": [
    "n = int(input(\"enter the num: \"))\n",
    "n1 = 1\n",
    "n2 = 1\n",
    "fibonacci_number = [n1,n2]\n",
    "for _ in range(2,n+1):\n",
    "    n3 = n1+n2\n",
    "    fibonacci_number.append(n3)\n",
    "    n1,n2 = n2,n3\n",
    "print(fibonacci_number)"
   ]
  },
  {
   "cell_type": "markdown",
   "metadata": {},
   "source": [
    "Intermediate Level:\n",
    "\n",
    "11. Write a program to check if a given list contains any duplicates using a `for` loop."
   ]
  },
  {
   "cell_type": "code",
   "execution_count": 41,
   "metadata": {},
   "outputs": [
    {
     "name": "stdout",
     "output_type": "stream",
     "text": [
      "True\n"
     ]
    }
   ],
   "source": [
    "lst = [1,2,3,4,5,3]\n",
    "def check_duplicates(lst):\n",
    "    s = set()\n",
    "    for num in lst:\n",
    "        if num in s:\n",
    "            return True\n",
    "        s.add(num)\n",
    "    return False\n",
    "print(check_duplicates(lst))"
   ]
  },
  {
   "cell_type": "markdown",
   "metadata": {},
   "source": [
    "12. Create a program that prints the prime numbers in a given range using a `for` loop."
   ]
  },
  {
   "cell_type": "code",
   "execution_count": 44,
   "metadata": {},
   "outputs": [
    {
     "name": "stdout",
     "output_type": "stream",
     "text": [
      "2,3,5,7,11,13,"
     ]
    }
   ],
   "source": [
    "for i in range(2,14):\n",
    "    is_prime = True\n",
    "    for j in range(2,i):\n",
    "        if i%j == 0:\n",
    "            is_prime = False\n",
    "            break\n",
    "    if is_prime:\n",
    "        print(i,end=\",\")\n"
   ]
  },
  {
   "cell_type": "markdown",
   "metadata": {},
   "source": [
    "13. Develop a program that counts the number of vowels in a string using a `for` loop."
   ]
  },
  {
   "cell_type": "code",
   "execution_count": 45,
   "metadata": {},
   "outputs": [
    {
     "name": "stdout",
     "output_type": "stream",
     "text": [
      "the number of vowels in string is 4\n"
     ]
    }
   ],
   "source": [
    "s = 'intelligent'\n",
    "vowels = 'aeiouAEIOU'\n",
    "vowel_count = 0\n",
    "for vowel in s:\n",
    "    if vowel in vowels:\n",
    "        vowel_count+=1\n",
    "print('the number of vowels in string is',vowel_count)"
   ]
  },
  {
   "cell_type": "markdown",
   "metadata": {},
   "source": [
    "14. Write a program to find the maximum element in a 2D list using a nested `for` loop."
   ]
  },
  {
   "cell_type": "code",
   "execution_count": 50,
   "metadata": {},
   "outputs": [
    {
     "name": "stdout",
     "output_type": "stream",
     "text": [
      "the maximum element is 9\n"
     ]
    }
   ],
   "source": [
    "matrix =[[1,2,3],[4,5,6],[7,8,9]]\n",
    "def find_max_element_in_2D_lst():\n",
    "    max_element=matrix[0][0]\n",
    "    for lst in matrix:\n",
    "        for element in lst:\n",
    "            if element>max_element:\n",
    "                max_element = element\n",
    "    return max_element\n",
    "print('the maximum element is',find_max_element_in_2D_lst())"
   ]
  },
  {
   "cell_type": "markdown",
   "metadata": {},
   "source": [
    "15. Create a program that removes all occurrences of a specific element from a list using a `for` loop."
   ]
  },
  {
   "cell_type": "code",
   "execution_count": 51,
   "metadata": {},
   "outputs": [
    {
     "name": "stdout",
     "output_type": "stream",
     "text": [
      "[1, 3, 4, 5, 6, 7]\n"
     ]
    }
   ],
   "source": [
    "def remove_specific_element():\n",
    "    for i in range(len(lst)-1,-1,-1):\n",
    "        if lst[i]== specific_element:\n",
    "            lst.pop(i)\n",
    "    return lst\n",
    "lst = [1,2,3,2,4,5,2,6,2,7]\n",
    "specific_element = 2\n",
    "print(remove_specific_element())"
   ]
  },
  {
   "cell_type": "markdown",
   "metadata": {},
   "source": [
    "16. Develop a program that generates a multiplication table for numbers from 1 to 5 using a nested `for` loop."
   ]
  },
  {
   "cell_type": "code",
   "execution_count": 67,
   "metadata": {},
   "outputs": [
    {
     "name": "stdout",
     "output_type": "stream",
     "text": [
      "     1   2   3   4   5 \n",
      "   ---- ---- ---- ---- ---- \n",
      " 1 |   1   2   3   4   5 \n",
      " 2 |   2   4   6   8  10 \n",
      " 3 |   3   6   9  12  15 \n",
      " 4 |   4   8  12  16  20 \n",
      " 5 |   5  10  15  20  25 \n"
     ]
    }
   ],
   "source": [
    "def generate_multiplication_table(n):\n",
    "    print(\"   \", end=\"\")\n",
    "    for i in range(1, n + 1):\n",
    "        print(f\"{i:3}\", end=\" \")\n",
    "    print()\n",
    "    print(\"   \" + \"---- \" * n)\n",
    "    for i in range(1, n + 1):\n",
    "        print(f\"{i:2} |\", end=\" \")\n",
    "        for j in range(1, n + 1):\n",
    "            print(f\"{i * j:3}\", end=\" \")\n",
    "        print()\n",
    "generate_multiplication_table(5)"
   ]
  },
  {
   "cell_type": "markdown",
   "metadata": {},
   "source": [
    "17. Write a program that converts a list of Fahrenheit temperatures to Celsius using a `for` loop."
   ]
  },
  {
   "cell_type": "code",
   "execution_count": 71,
   "metadata": {},
   "outputs": [
    {
     "data": {
      "text/plain": [
       "[0, 7, 17, 25, 37]"
      ]
     },
     "execution_count": 71,
     "metadata": {},
     "output_type": "execute_result"
    }
   ],
   "source": [
    "fahrenheit_temp_lst = [32, 45, 64, 77, 100]\n",
    "def fahrenheit_to_celsius():\n",
    "    celsius_temp_lst = []\n",
    "    for f in fahrenheit_temp_lst:\n",
    "        c = (f-32)*5//9\n",
    "        celsius_temp_lst.append(c)\n",
    "    return celsius_temp_lst\n",
    "fahrenheit_to_celsius()"
   ]
  },
  {
   "cell_type": "markdown",
   "metadata": {},
   "source": [
    "18. Create a program to print the common elements from two lists using a `for` loop."
   ]
  },
  {
   "cell_type": "code",
   "execution_count": 76,
   "metadata": {},
   "outputs": [
    {
     "name": "stdout",
     "output_type": "stream",
     "text": [
      "4\n",
      "5\n",
      "6\n"
     ]
    }
   ],
   "source": [
    "l1 = [1,2,3,4,5,6]\n",
    "l2 = [4,5,6,7,8,9]\n",
    "for i in l1:\n",
    "    if i in l2:\n",
    "        print(i)"
   ]
  },
  {
   "cell_type": "markdown",
   "metadata": {},
   "source": [
    "19. Develop a program that prints the pattern of right-angled triangles using a `for` loop. Use ‘*’ to draw the\n",
    "pattern"
   ]
  },
  {
   "cell_type": "code",
   "execution_count": 84,
   "metadata": {},
   "outputs": [
    {
     "name": "stdout",
     "output_type": "stream",
     "text": [
      "*\n",
      "**\n",
      "***\n",
      "****\n",
      "*****\n"
     ]
    }
   ],
   "source": [
    "for i in range(1,n):\n",
    "    print('*'*i)\n",
    "n = int(input('enter the num:'))"
   ]
  },
  {
   "cell_type": "markdown",
   "metadata": {},
   "source": [
    "20. Write a program to find the greatest common divisor (GCD) of two numbers using a `for` loop."
   ]
  },
  {
   "cell_type": "code",
   "execution_count": 89,
   "metadata": {},
   "outputs": [
    {
     "name": "stdout",
     "output_type": "stream",
     "text": [
      "the greatest common divisor of two numbers is 10\n"
     ]
    }
   ],
   "source": [
    "n1 = 10\n",
    "n2 = 20\n",
    "gcd = 1\n",
    "min_value = min(n1,n2)\n",
    "for i in range(1,min_value+1):\n",
    "    if n1%i ==0 and n2%i==0 and i>gcd:\n",
    "        gcd = i\n",
    "print('the greatest common divisor of two numbers is',gcd)   "
   ]
  },
  {
   "cell_type": "markdown",
   "metadata": {},
   "source": [
    "Advanced Level:\n",
    "\n",
    "21. Create a program that calculates the sum of the digits of numbers in a list using a list comprehension."
   ]
  },
  {
   "cell_type": "code",
   "execution_count": 90,
   "metadata": {},
   "outputs": [
    {
     "name": "stdout",
     "output_type": "stream",
     "text": [
      "10\n"
     ]
    }
   ],
   "source": []
  },
  {
   "cell_type": "code",
   "execution_count": null,
   "metadata": {},
   "outputs": [],
   "source": []
  }
 ],
 "metadata": {
  "kernelspec": {
   "display_name": "Python 3",
   "language": "python",
   "name": "python3"
  },
  "language_info": {
   "codemirror_mode": {
    "name": "ipython",
    "version": 3
   },
   "file_extension": ".py",
   "mimetype": "text/x-python",
   "name": "python",
   "nbconvert_exporter": "python",
   "pygments_lexer": "ipython3",
   "version": "3.12.4"
  }
 },
 "nbformat": 4,
 "nbformat_minor": 2
}
